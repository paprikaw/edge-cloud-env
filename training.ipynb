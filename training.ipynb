{
 "cells": [
  {
   "cell_type": "code",
   "execution_count": null,
   "metadata": {},
   "outputs": [],
   "source": [
    "from stable_baselines3.common.callbacks import EvalCallback\n",
    "from stable_baselines3 import PPO\n",
    "from stable_baselines3.common.monitor import Monitor\n",
    "from stable_baselines3 import DQN\n",
    "from stable_baselines3 import A2C\n",
    "from env import MicroserviceEnv\n",
    "import logging\n",
    "logging.basicConfig(level=logging.ERROR)\n",
    "version = \"v12-no-mask-dynamic-latency-dqn\"\n",
    "# version = \"v11-no-mask-dynamic-ppo\"\n",
    "# version = \"v11-no-mask-dynamic-a2c\"\n",
    "env = MicroserviceEnv(num_nodes=7, num_pods=13, dynamic_env=True, is_training=True)\n",
    "env = Monitor(env)\n",
    "eval_callback = EvalCallback(\n",
    "    env,                       \n",
    "    best_model_save_path='./models/' + version,\n",
    "    log_path='./logs/results/',       \n",
    "    eval_freq=10000,                  \n",
    "    deterministic=False,\n",
    "    render=False,\n",
    "    n_eval_episodes=20,\n",
    ")\n",
    "\n",
    "# model = PPO(\"MultiInputPolicy\", env, verbose=1)\n",
    "model = DQN(\"MultiInputPolicy\", env, verbose=1)\n",
    "# model = A2C(\"MultiInputPolicy\", env, verbose=1)\n",
    "# 训练代理\n",
    "try:\n",
    "    model.learn(total_timesteps=1000000,callback=eval_callback)\n",
    "    # 保存模型\n",
    "    model.save(f\"./models/{version}/model\")\n",
    "except KeyboardInterrupt:\n",
    "    print(\"Training interrupted. Saving the model.\")\n",
    "    model.save(f\"./models/{version}/model\")"
   ]
  }
 ],
 "metadata": {
  "language_info": {
   "name": "python"
  }
 },
 "nbformat": 4,
 "nbformat_minor": 2
}
